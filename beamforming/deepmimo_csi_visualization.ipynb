{
 "cells": [
  {
   "cell_type": "code",
   "execution_count": 9,
   "id": "ad50b9fc",
   "metadata": {},
   "outputs": [],
   "source": [
    "import DeepMIMOv3 as deepmimo\n",
    "import numpy as np\n",
    "import matplotlib.pyplot as plt\n",
    "import os"
   ]
  },
  {
   "cell_type": "code",
   "execution_count": 11,
   "id": "eb5f06e0",
   "metadata": {},
   "outputs": [
    {
     "ename": "FileNotFoundError",
     "evalue": "[Errno 2] No such file or directory: '/Users/macbookm1/Documents/GitHub/Machine-Learning-Based-mmWave-Adaptive-Beamforming/beamforming/Raytracing_scenarios/O1_60/O1_60.params.mat'",
     "output_type": "error",
     "traceback": [
      "\u001b[31m---------------------------------------------------------------------------\u001b[39m",
      "\u001b[31mFileNotFoundError\u001b[39m                         Traceback (most recent call last)",
      "\u001b[36mFile \u001b[39m\u001b[32m~/Documents/GitHub/Machine-Learning-Based-mmWave-Adaptive-Beamforming/.venv/lib/python3.11/site-packages/scipy/io/matlab/_mio.py:39\u001b[39m, in \u001b[36m_open_file\u001b[39m\u001b[34m(file_like, appendmat, mode)\u001b[39m\n\u001b[32m     38\u001b[39m \u001b[38;5;28;01mtry\u001b[39;00m:\n\u001b[32m---> \u001b[39m\u001b[32m39\u001b[39m     \u001b[38;5;28;01mreturn\u001b[39;00m \u001b[38;5;28;43mopen\u001b[39;49m\u001b[43m(\u001b[49m\u001b[43mfile_like\u001b[49m\u001b[43m,\u001b[49m\u001b[43m \u001b[49m\u001b[43mmode\u001b[49m\u001b[43m)\u001b[49m, \u001b[38;5;28;01mTrue\u001b[39;00m\n\u001b[32m     40\u001b[39m \u001b[38;5;28;01mexcept\u001b[39;00m \u001b[38;5;167;01mOSError\u001b[39;00m \u001b[38;5;28;01mas\u001b[39;00m e:\n\u001b[32m     41\u001b[39m     \u001b[38;5;66;03m# Probably \"not found\"\u001b[39;00m\n",
      "\u001b[31mFileNotFoundError\u001b[39m: [Errno 2] No such file or directory: '/Users/macbookm1/Documents/GitHub/Machine-Learning-Based-mmWave-Adaptive-Beamforming/beamforming/Raytracing_scenarios/O1_60/O1_60.params.mat'",
      "\nDuring handling of the above exception, another exception occurred:\n",
      "\u001b[31mFileNotFoundError\u001b[39m                         Traceback (most recent call last)",
      "\u001b[36mCell\u001b[39m\u001b[36m \u001b[39m\u001b[32mIn[11]\u001b[39m\u001b[32m, line 13\u001b[39m\n\u001b[32m      2\u001b[39m params = deepmimo.params.default_params()\n\u001b[32m      4\u001b[39m \u001b[38;5;66;03m# Update required parameters\u001b[39;00m\n\u001b[32m      5\u001b[39m \u001b[38;5;66;03m# params['dataset_folder'] = \"/path/to/deepmimo/scenarios\"  # 🔁 update this path!\u001b[39;00m\n\u001b[32m      6\u001b[39m \u001b[38;5;66;03m# params['scenario'] = 'O1_60GHz'\u001b[39;00m\n\u001b[32m   (...)\u001b[39m\u001b[32m     11\u001b[39m \n\u001b[32m     12\u001b[39m \u001b[38;5;66;03m# Generate the dataset\u001b[39;00m\n\u001b[32m---> \u001b[39m\u001b[32m13\u001b[39m dataset = \u001b[43mdeepmimo\u001b[49m\u001b[43m.\u001b[49m\u001b[43mgenerator\u001b[49m\u001b[43m.\u001b[49m\u001b[43mgenerate_data\u001b[49m\u001b[43m(\u001b[49m\u001b[43mparams\u001b[49m\u001b[43m)\u001b[49m\n\u001b[32m     15\u001b[39m \u001b[38;5;66;03m# Inspect\u001b[39;00m\n\u001b[32m     16\u001b[39m \u001b[38;5;28mprint\u001b[39m(\u001b[38;5;28mtype\u001b[39m(dataset))  \u001b[38;5;66;03m# usually list of dicts\u001b[39;00m\n",
      "\u001b[36mFile \u001b[39m\u001b[32m~/Documents/GitHub/Machine-Learning-Based-mmWave-Adaptive-Beamforming/.venv/lib/python3.11/site-packages/DeepMIMOv3/generator.py:24\u001b[39m, in \u001b[36mgenerate_data\u001b[39m\u001b[34m(ext_params)\u001b[39m\n\u001b[32m     20\u001b[39m \u001b[38;5;28;01mdef\u001b[39;00m\u001b[38;5;250m \u001b[39m\u001b[34mgenerate_data\u001b[39m(ext_params):\n\u001b[32m     22\u001b[39m     np.random.seed(\u001b[32m1001\u001b[39m)\n\u001b[32m---> \u001b[39m\u001b[32m24\u001b[39m     params = \u001b[43mvalidate_params\u001b[49m\u001b[43m(\u001b[49m\u001b[43mcopy\u001b[49m\u001b[43m.\u001b[49m\u001b[43mdeepcopy\u001b[49m\u001b[43m(\u001b[49m\u001b[43mext_params\u001b[49m\u001b[43m)\u001b[49m\u001b[43m)\u001b[49m\n\u001b[32m     26\u001b[39m     \u001b[38;5;66;03m# If dynamic scenario\u001b[39;00m\n\u001b[32m     27\u001b[39m     \u001b[38;5;28;01mif\u001b[39;00m is_dynamic_scenario(params):\n",
      "\u001b[36mFile \u001b[39m\u001b[32m~/Documents/GitHub/Machine-Learning-Based-mmWave-Adaptive-Beamforming/.venv/lib/python3.11/site-packages/DeepMIMOv3/generator.py:116\u001b[39m, in \u001b[36mvalidate_params\u001b[39m\u001b[34m(params)\u001b[39m\n\u001b[32m    114\u001b[39m     \u001b[38;5;28;01mfrom\u001b[39;00m\u001b[38;5;250m \u001b[39m\u001b[34;01mDeepMIMOv3\u001b[39;00m\u001b[34;01m.\u001b[39;00m\u001b[34;01mraytracing_v3\u001b[39;00m\u001b[38;5;250m \u001b[39m\u001b[38;5;28;01mimport\u001b[39;00m load_scenario_params, read_raytracing\n\u001b[32m    115\u001b[39m params[\u001b[33m'\u001b[39m\u001b[33mraytracing_fn\u001b[39m\u001b[33m'\u001b[39m] = read_raytracing\n\u001b[32m--> \u001b[39m\u001b[32m116\u001b[39m params[c.PARAMSET_SCENARIO_PARAMS] = \u001b[43mload_scenario_params\u001b[49m\u001b[43m(\u001b[49m\u001b[43mparams\u001b[49m\u001b[43m[\u001b[49m\u001b[43mc\u001b[49m\u001b[43m.\u001b[49m\u001b[43mPARAMSET_SCENARIO_PARAMS_PATH\u001b[49m\u001b[43m]\u001b[49m\u001b[43m)\u001b[49m\n\u001b[32m    118\u001b[39m \u001b[38;5;66;03m# Active user IDs and related parameter\u001b[39;00m\n\u001b[32m    119\u001b[39m \u001b[38;5;28;01massert\u001b[39;00m params[c.PARAMSET_USER_SUBSAMP] > \u001b[32m0\u001b[39m \u001b[38;5;129;01mand\u001b[39;00m params[c.PARAMSET_USER_SUBSAMP] <= \u001b[32m1\u001b[39m, \u001b[33m'\u001b[39m\u001b[33mThe subsampling parameter \u001b[39m\u001b[38;5;130;01m\\'\u001b[39;00m\u001b[38;5;132;01m%s\u001b[39;00m\u001b[38;5;130;01m\\'\u001b[39;00m\u001b[33m needs to be in (0, 1]\u001b[39m\u001b[33m'\u001b[39m%c.PARAMSET_USER_SUBSAMP\n",
      "\u001b[36mFile \u001b[39m\u001b[32m~/Documents/GitHub/Machine-Learning-Based-mmWave-Adaptive-Beamforming/.venv/lib/python3.11/site-packages/DeepMIMOv3/raytracing_v2.py:119\u001b[39m, in \u001b[36mload_scenario_params\u001b[39m\u001b[34m(scenario_params_path)\u001b[39m\n\u001b[32m    118\u001b[39m \u001b[38;5;28;01mdef\u001b[39;00m\u001b[38;5;250m \u001b[39m\u001b[34mload_scenario_params\u001b[39m(scenario_params_path):\n\u001b[32m--> \u001b[39m\u001b[32m119\u001b[39m     data = \u001b[43mscipy\u001b[49m\u001b[43m.\u001b[49m\u001b[43mio\u001b[49m\u001b[43m.\u001b[49m\u001b[43mloadmat\u001b[49m\u001b[43m(\u001b[49m\u001b[43mscenario_params_path\u001b[49m\u001b[43m)\u001b[49m\n\u001b[32m    120\u001b[39m     scenario_params = {\n\u001b[32m    121\u001b[39m                         c.PARAMSET_SCENARIO_PARAMS_CF: data[c.LOAD_FILE_SP_CF].astype(\u001b[38;5;28mfloat\u001b[39m).item(),\n\u001b[32m    122\u001b[39m                         c.PARAMSET_SCENARIO_PARAMS_TX_POW: data[c.LOAD_FILE_SP_TX_POW].astype(\u001b[38;5;28mfloat\u001b[39m).item(),\n\u001b[32m   (...)\u001b[39m\u001b[32m    126\u001b[39m                         c.PARAMSET_SCENARIO_PARAMS_POLAR_EN: \u001b[32m0\u001b[39m\n\u001b[32m    127\u001b[39m                       }\n\u001b[32m    128\u001b[39m     \u001b[38;5;28;01mreturn\u001b[39;00m scenario_params\n",
      "\u001b[36mFile \u001b[39m\u001b[32m~/Documents/GitHub/Machine-Learning-Based-mmWave-Adaptive-Beamforming/.venv/lib/python3.11/site-packages/scipy/io/matlab/_mio.py:233\u001b[39m, in \u001b[36mloadmat\u001b[39m\u001b[34m(file_name, mdict, appendmat, spmatrix, **kwargs)\u001b[39m\n\u001b[32m     88\u001b[39m \u001b[38;5;250m\u001b[39m\u001b[33;03m\"\"\"\u001b[39;00m\n\u001b[32m     89\u001b[39m \u001b[33;03mLoad MATLAB file.\u001b[39;00m\n\u001b[32m     90\u001b[39m \n\u001b[32m   (...)\u001b[39m\u001b[32m    230\u001b[39m \u001b[33;03m    3.14159265+3.14159265j])\u001b[39;00m\n\u001b[32m    231\u001b[39m \u001b[33;03m\"\"\"\u001b[39;00m\n\u001b[32m    232\u001b[39m variable_names = kwargs.pop(\u001b[33m'\u001b[39m\u001b[33mvariable_names\u001b[39m\u001b[33m'\u001b[39m, \u001b[38;5;28;01mNone\u001b[39;00m)\n\u001b[32m--> \u001b[39m\u001b[32m233\u001b[39m \u001b[43m\u001b[49m\u001b[38;5;28;43;01mwith\u001b[39;49;00m\u001b[43m \u001b[49m\u001b[43m_open_file_context\u001b[49m\u001b[43m(\u001b[49m\u001b[43mfile_name\u001b[49m\u001b[43m,\u001b[49m\u001b[43m \u001b[49m\u001b[43mappendmat\u001b[49m\u001b[43m)\u001b[49m\u001b[43m \u001b[49m\u001b[38;5;28;43;01mas\u001b[39;49;00m\u001b[43m \u001b[49m\u001b[43mf\u001b[49m\u001b[43m:\u001b[49m\n\u001b[32m    234\u001b[39m \u001b[43m    \u001b[49m\u001b[43mMR\u001b[49m\u001b[43m,\u001b[49m\u001b[43m \u001b[49m\u001b[43m_\u001b[49m\u001b[43m \u001b[49m\u001b[43m=\u001b[49m\u001b[43m \u001b[49m\u001b[43mmat_reader_factory\u001b[49m\u001b[43m(\u001b[49m\u001b[43mf\u001b[49m\u001b[43m,\u001b[49m\u001b[43m \u001b[49m\u001b[43m*\u001b[49m\u001b[43m*\u001b[49m\u001b[43mkwargs\u001b[49m\u001b[43m)\u001b[49m\n\u001b[32m    235\u001b[39m \u001b[43m    \u001b[49m\u001b[43mmatfile_dict\u001b[49m\u001b[43m \u001b[49m\u001b[43m=\u001b[49m\u001b[43m \u001b[49m\u001b[43mMR\u001b[49m\u001b[43m.\u001b[49m\u001b[43mget_variables\u001b[49m\u001b[43m(\u001b[49m\u001b[43mvariable_names\u001b[49m\u001b[43m)\u001b[49m\n",
      "\u001b[36mFile \u001b[39m\u001b[32m/Library/Frameworks/Python.framework/Versions/3.11/lib/python3.11/contextlib.py:137\u001b[39m, in \u001b[36m_GeneratorContextManager.__enter__\u001b[39m\u001b[34m(self)\u001b[39m\n\u001b[32m    135\u001b[39m \u001b[38;5;28;01mdel\u001b[39;00m \u001b[38;5;28mself\u001b[39m.args, \u001b[38;5;28mself\u001b[39m.kwds, \u001b[38;5;28mself\u001b[39m.func\n\u001b[32m    136\u001b[39m \u001b[38;5;28;01mtry\u001b[39;00m:\n\u001b[32m--> \u001b[39m\u001b[32m137\u001b[39m     \u001b[38;5;28;01mreturn\u001b[39;00m \u001b[38;5;28mnext\u001b[39m(\u001b[38;5;28mself\u001b[39m.gen)\n\u001b[32m    138\u001b[39m \u001b[38;5;28;01mexcept\u001b[39;00m \u001b[38;5;167;01mStopIteration\u001b[39;00m:\n\u001b[32m    139\u001b[39m     \u001b[38;5;28;01mraise\u001b[39;00m \u001b[38;5;167;01mRuntimeError\u001b[39;00m(\u001b[33m\"\u001b[39m\u001b[33mgenerator didn\u001b[39m\u001b[33m'\u001b[39m\u001b[33mt yield\u001b[39m\u001b[33m\"\u001b[39m) \u001b[38;5;28;01mfrom\u001b[39;00m\u001b[38;5;250m \u001b[39m\u001b[38;5;28;01mNone\u001b[39;00m\n",
      "\u001b[36mFile \u001b[39m\u001b[32m~/Documents/GitHub/Machine-Learning-Based-mmWave-Adaptive-Beamforming/.venv/lib/python3.11/site-packages/scipy/io/matlab/_mio.py:17\u001b[39m, in \u001b[36m_open_file_context\u001b[39m\u001b[34m(file_like, appendmat, mode)\u001b[39m\n\u001b[32m     15\u001b[39m \u001b[38;5;129m@contextmanager\u001b[39m\n\u001b[32m     16\u001b[39m \u001b[38;5;28;01mdef\u001b[39;00m\u001b[38;5;250m \u001b[39m\u001b[34m_open_file_context\u001b[39m(file_like, appendmat, mode=\u001b[33m'\u001b[39m\u001b[33mrb\u001b[39m\u001b[33m'\u001b[39m):\n\u001b[32m---> \u001b[39m\u001b[32m17\u001b[39m     f, opened = \u001b[43m_open_file\u001b[49m\u001b[43m(\u001b[49m\u001b[43mfile_like\u001b[49m\u001b[43m,\u001b[49m\u001b[43m \u001b[49m\u001b[43mappendmat\u001b[49m\u001b[43m,\u001b[49m\u001b[43m \u001b[49m\u001b[43mmode\u001b[49m\u001b[43m)\u001b[49m\n\u001b[32m     18\u001b[39m     \u001b[38;5;28;01mtry\u001b[39;00m:\n\u001b[32m     19\u001b[39m         \u001b[38;5;28;01myield\u001b[39;00m f\n",
      "\u001b[36mFile \u001b[39m\u001b[32m~/Documents/GitHub/Machine-Learning-Based-mmWave-Adaptive-Beamforming/.venv/lib/python3.11/site-packages/scipy/io/matlab/_mio.py:45\u001b[39m, in \u001b[36m_open_file\u001b[39m\u001b[34m(file_like, appendmat, mode)\u001b[39m\n\u001b[32m     43\u001b[39m     \u001b[38;5;28;01mif\u001b[39;00m appendmat \u001b[38;5;129;01mand\u001b[39;00m \u001b[38;5;129;01mnot\u001b[39;00m file_like.endswith(\u001b[33m'\u001b[39m\u001b[33m.mat\u001b[39m\u001b[33m'\u001b[39m):\n\u001b[32m     44\u001b[39m         file_like += \u001b[33m'\u001b[39m\u001b[33m.mat\u001b[39m\u001b[33m'\u001b[39m\n\u001b[32m---> \u001b[39m\u001b[32m45\u001b[39m     \u001b[38;5;28;01mreturn\u001b[39;00m \u001b[38;5;28;43mopen\u001b[39;49m\u001b[43m(\u001b[49m\u001b[43mfile_like\u001b[49m\u001b[43m,\u001b[49m\u001b[43m \u001b[49m\u001b[43mmode\u001b[49m\u001b[43m)\u001b[49m, \u001b[38;5;28;01mTrue\u001b[39;00m\n\u001b[32m     46\u001b[39m \u001b[38;5;28;01melse\u001b[39;00m:\n\u001b[32m     47\u001b[39m     \u001b[38;5;28;01mraise\u001b[39;00m \u001b[38;5;167;01mOSError\u001b[39;00m(\n\u001b[32m     48\u001b[39m         \u001b[33m'\u001b[39m\u001b[33mReader needs file name or open file-like object\u001b[39m\u001b[33m'\u001b[39m\n\u001b[32m     49\u001b[39m     ) \u001b[38;5;28;01mfrom\u001b[39;00m\u001b[38;5;250m \u001b[39m\u001b[34;01me\u001b[39;00m\n",
      "\u001b[31mFileNotFoundError\u001b[39m: [Errno 2] No such file or directory: '/Users/macbookm1/Documents/GitHub/Machine-Learning-Based-mmWave-Adaptive-Beamforming/beamforming/Raytracing_scenarios/O1_60/O1_60.params.mat'"
     ]
    }
   ],
   "source": [
    "# Load default DeepMIMO parameters\n",
    "params = deepmimo.params.default_params()\n",
    "\n",
    "# Update required parameters\n",
    "# params['dataset_folder'] = \"/path/to/deepmimo/scenarios\"  # 🔁 update this path!\n",
    "# params['scenario'] = 'O1_60GHz'\n",
    "# params['active_bs'] = [3]  # You can choose any available base station index\n",
    "# params['active_user_first'] = 1\n",
    "# params['active_user_last'] = 10\n",
    "# params['user_row_subsampling'] = 1\n",
    "\n",
    "# Generate the dataset\n",
    "dataset = deepmimo.generator.generate_data(params)\n",
    "\n",
    "# Inspect\n",
    "print(type(dataset))  # usually list of dicts"
   ]
  },
  {
   "cell_type": "code",
   "execution_count": 7,
   "id": "04654b54",
   "metadata": {},
   "outputs": [
    {
     "ename": "AttributeError",
     "evalue": "module 'DeepMIMOv3.generator' has no attribute 'load'",
     "output_type": "error",
     "traceback": [
      "\u001b[31m---------------------------------------------------------------------------\u001b[39m",
      "\u001b[31mAttributeError\u001b[39m                            Traceback (most recent call last)",
      "\u001b[36mCell\u001b[39m\u001b[36m \u001b[39m\u001b[32mIn[7]\u001b[39m\u001b[32m, line 3\u001b[39m\n\u001b[32m      1\u001b[39m \u001b[38;5;66;03m# Load a DeepMIMO scenario\u001b[39;00m\n\u001b[32m      2\u001b[39m scenario_name = \u001b[33m\"\u001b[39m\u001b[33mO1_60GHz\u001b[39m\u001b[33m\"\u001b[39m\n\u001b[32m----> \u001b[39m\u001b[32m3\u001b[39m dataset = \u001b[43mdeepmimo\u001b[49m\u001b[43m.\u001b[49m\u001b[43mgenerator\u001b[49m\u001b[43m.\u001b[49m\u001b[43mload\u001b[49m(scenario_name)\n\u001b[32m      5\u001b[39m \u001b[38;5;66;03m# View keys\u001b[39;00m\n\u001b[32m      6\u001b[39m \u001b[38;5;28mprint\u001b[39m(\u001b[33m\"\u001b[39m\u001b[33mDataset Keys:\u001b[39m\u001b[33m\"\u001b[39m, dataset.keys())\n",
      "\u001b[31mAttributeError\u001b[39m: module 'DeepMIMOv3.generator' has no attribute 'load'"
     ]
    }
   ],
   "source": [
    "# Load a DeepMIMO scenario\n",
    "scenario_name = \"O1_60GHz\"\n",
    "dataset = deepmimo.generator.load(scenario_name)\n",
    "\n",
    "# View keys\n",
    "print(\"Dataset Keys:\", dataset.keys())"
   ]
  },
  {
   "cell_type": "code",
   "execution_count": null,
   "id": "938fdcf4",
   "metadata": {},
   "outputs": [],
   "source": [
    "# Extract data\n",
    "H = dataset['channel']            # Channel matrices: [num_users, subcarriers, tx, rx]\n",
    "aoa = dataset['aoa']              # Angle of arrival (degrees)\n",
    "aod = dataset['aod']              # Angle of departure (degrees)\n",
    "rx_xyz = dataset['rx_xyz']        # RX positions (m)\n",
    "tx_xyz = dataset['tx_xyz']        # TX positions (m)\n",
    "\n",
    "# --- Visualize CSI Amplitude and Phase for First User ---\n",
    "H0 = H[0]  # shape: [subcarriers, tx, rx]\n",
    "amp = np.abs(H0)\n",
    "phase = np.angle(H0)"
   ]
  },
  {
   "cell_type": "code",
   "execution_count": null,
   "id": "716a707b",
   "metadata": {},
   "outputs": [],
   "source": [
    "# Plot amplitude heatmap\n",
    "plt.figure(figsize=(10, 4))\n",
    "plt.imshow(amp[:, :, 0], aspect='auto', cmap='viridis')\n",
    "plt.colorbar(label='Amplitude')\n",
    "plt.title('CSI Amplitude (User 0, Rx antenna 0)')\n",
    "plt.xlabel('Tx Antenna Index')\n",
    "plt.ylabel('Subcarrier Index')\n",
    "plt.tight_layout()\n",
    "plt.show()"
   ]
  },
  {
   "cell_type": "code",
   "execution_count": null,
   "id": "c156214f",
   "metadata": {},
   "outputs": [],
   "source": [
    "# Plot phase heatmap\n",
    "plt.figure(figsize=(10, 4))\n",
    "plt.imshow(phase[:, :, 0], aspect='auto', cmap='twilight')\n",
    "plt.colorbar(label='Phase (radians)')\n",
    "plt.title('CSI Phase (User 0, Rx antenna 0)')\n",
    "plt.xlabel('Tx Antenna Index')\n",
    "plt.ylabel('Subcarrier Index')\n",
    "plt.tight_layout()\n",
    "plt.show()"
   ]
  },
  {
   "cell_type": "code",
   "execution_count": null,
   "id": "84956065",
   "metadata": {},
   "outputs": [],
   "source": [
    "# --- AoA and AoD Histograms ---\n",
    "plt.figure(figsize=(10, 4))\n",
    "plt.hist(aoa, bins=50, color='skyblue', edgecolor='black')\n",
    "plt.title('AoA Distribution (Degrees)')\n",
    "plt.xlabel('AoA')\n",
    "plt.ylabel('Count')\n",
    "plt.grid(True)\n",
    "plt.show()"
   ]
  },
  {
   "cell_type": "code",
   "execution_count": null,
   "id": "1048adfa",
   "metadata": {},
   "outputs": [],
   "source": [
    "plt.figure(figsize=(10, 4))\n",
    "plt.hist(aod, bins=50, color='salmon', edgecolor='black')\n",
    "plt.title('AoD Distribution (Degrees)')\n",
    "plt.xlabel('AoD')\n",
    "plt.ylabel('Count')\n",
    "plt.grid(True)\n",
    "plt.show()"
   ]
  },
  {
   "cell_type": "code",
   "execution_count": null,
   "id": "362a8242",
   "metadata": {},
   "outputs": [],
   "source": [
    "# --- Plot TX and RX Positions ---\n",
    "rx_xyz = np.array(rx_xyz)\n",
    "tx_xyz = np.array(tx_xyz)\n",
    "\n",
    "plt.figure(figsize=(8, 6))\n",
    "plt.scatter(rx_xyz[:, 0], rx_xyz[:, 1], c='blue', label='Users (RX)', s=10)\n",
    "plt.scatter(tx_xyz[:, 0], tx_xyz[:, 1], c='red', label='Base Stations (TX)', marker='^', s=100)\n",
    "plt.title('TX and RX Locations')\n",
    "plt.xlabel('X Position (m)')\n",
    "plt.ylabel('Y Position (m)')\n",
    "plt.legend()\n",
    "plt.grid(True)\n",
    "plt.tight_layout()\n",
    "plt.show()"
   ]
  }
 ],
 "metadata": {
  "kernelspec": {
   "display_name": ".venv",
   "language": "python",
   "name": "python3"
  },
  "language_info": {
   "codemirror_mode": {
    "name": "ipython",
    "version": 3
   },
   "file_extension": ".py",
   "mimetype": "text/x-python",
   "name": "python",
   "nbconvert_exporter": "python",
   "pygments_lexer": "ipython3",
   "version": "3.11.3"
  }
 },
 "nbformat": 4,
 "nbformat_minor": 5
}
