{
 "cells": [
  {
   "cell_type": "code",
   "execution_count": null,
   "id": "ad50b9fc",
   "metadata": {},
   "outputs": [
    {
     "ename": "",
     "evalue": "",
     "output_type": "error",
     "traceback": [
      "\u001b[1;31mRunning cells with '.venv (Python 3.11.3)' requires the ipykernel package.\n",
      "\u001b[1;31mInstall 'ipykernel' into the Python environment. \n",
      "\u001b[1;31mCommand: '/Users/macbookm1/Documents/GitHub/Machine-Learning-Based-mmWave-Adaptive-Beamforming/.venv/bin/python -m pip install ipykernel -U --force-reinstall'"
     ]
    }
   ],
   "source": [
    "import deepmimo as deepmimo\n",
    "import numpy as np\n",
    "import matplotlib.pyplot as plt"
   ]
  },
  {
   "cell_type": "code",
   "execution_count": null,
   "id": "04654b54",
   "metadata": {},
   "outputs": [],
   "source": [
    "# Load a DeepMIMO scenario\n",
    "scenario_name = \"O1_60GHz\"\n",
    "dataset = deepmimo.load(scenario_name)\n",
    "\n",
    "# View keys\n",
    "print(\"Dataset Keys:\", dataset.keys())"
   ]
  },
  {
   "cell_type": "code",
   "execution_count": null,
   "id": "938fdcf4",
   "metadata": {},
   "outputs": [],
   "source": [
    "# Extract data\n",
    "H = dataset['channel']            # Channel matrices: [num_users, subcarriers, tx, rx]\n",
    "aoa = dataset['aoa']              # Angle of arrival (degrees)\n",
    "aod = dataset['aod']              # Angle of departure (degrees)\n",
    "rx_xyz = dataset['rx_xyz']        # RX positions (m)\n",
    "tx_xyz = dataset['tx_xyz']        # TX positions (m)\n",
    "\n",
    "# --- Visualize CSI Amplitude and Phase for First User ---\n",
    "H0 = H[0]  # shape: [subcarriers, tx, rx]\n",
    "amp = np.abs(H0)\n",
    "phase = np.angle(H0)"
   ]
  },
  {
   "cell_type": "code",
   "execution_count": null,
   "id": "716a707b",
   "metadata": {},
   "outputs": [],
   "source": [
    "# Plot amplitude heatmap\n",
    "plt.figure(figsize=(10, 4))\n",
    "plt.imshow(amp[:, :, 0], aspect='auto', cmap='viridis')\n",
    "plt.colorbar(label='Amplitude')\n",
    "plt.title('CSI Amplitude (User 0, Rx antenna 0)')\n",
    "plt.xlabel('Tx Antenna Index')\n",
    "plt.ylabel('Subcarrier Index')\n",
    "plt.tight_layout()\n",
    "plt.show()"
   ]
  },
  {
   "cell_type": "code",
   "execution_count": null,
   "id": "c156214f",
   "metadata": {},
   "outputs": [],
   "source": [
    "# Plot phase heatmap\n",
    "plt.figure(figsize=(10, 4))\n",
    "plt.imshow(phase[:, :, 0], aspect='auto', cmap='twilight')\n",
    "plt.colorbar(label='Phase (radians)')\n",
    "plt.title('CSI Phase (User 0, Rx antenna 0)')\n",
    "plt.xlabel('Tx Antenna Index')\n",
    "plt.ylabel('Subcarrier Index')\n",
    "plt.tight_layout()\n",
    "plt.show()"
   ]
  },
  {
   "cell_type": "code",
   "execution_count": null,
   "id": "84956065",
   "metadata": {},
   "outputs": [],
   "source": [
    "# --- AoA and AoD Histograms ---\n",
    "plt.figure(figsize=(10, 4))\n",
    "plt.hist(aoa, bins=50, color='skyblue', edgecolor='black')\n",
    "plt.title('AoA Distribution (Degrees)')\n",
    "plt.xlabel('AoA')\n",
    "plt.ylabel('Count')\n",
    "plt.grid(True)\n",
    "plt.show()"
   ]
  },
  {
   "cell_type": "code",
   "execution_count": null,
   "id": "1048adfa",
   "metadata": {},
   "outputs": [],
   "source": [
    "plt.figure(figsize=(10, 4))\n",
    "plt.hist(aod, bins=50, color='salmon', edgecolor='black')\n",
    "plt.title('AoD Distribution (Degrees)')\n",
    "plt.xlabel('AoD')\n",
    "plt.ylabel('Count')\n",
    "plt.grid(True)\n",
    "plt.show()"
   ]
  },
  {
   "cell_type": "code",
   "execution_count": null,
   "id": "362a8242",
   "metadata": {},
   "outputs": [],
   "source": [
    "# --- Plot TX and RX Positions ---\n",
    "rx_xyz = np.array(rx_xyz)\n",
    "tx_xyz = np.array(tx_xyz)\n",
    "\n",
    "plt.figure(figsize=(8, 6))\n",
    "plt.scatter(rx_xyz[:, 0], rx_xyz[:, 1], c='blue', label='Users (RX)', s=10)\n",
    "plt.scatter(tx_xyz[:, 0], tx_xyz[:, 1], c='red', label='Base Stations (TX)', marker='^', s=100)\n",
    "plt.title('TX and RX Locations')\n",
    "plt.xlabel('X Position (m)')\n",
    "plt.ylabel('Y Position (m)')\n",
    "plt.legend()\n",
    "plt.grid(True)\n",
    "plt.tight_layout()\n",
    "plt.show()\n"
   ]
  }
 ],
 "metadata": {
  "kernelspec": {
   "display_name": ".venv",
   "language": "python",
   "name": "python3"
  },
  "language_info": {
   "name": "python",
   "version": "3.11.3"
  }
 },
 "nbformat": 4,
 "nbformat_minor": 5
}
