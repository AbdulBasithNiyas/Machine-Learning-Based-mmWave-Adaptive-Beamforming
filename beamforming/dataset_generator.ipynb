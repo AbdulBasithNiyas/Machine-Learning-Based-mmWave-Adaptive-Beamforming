{
 "cells": [
  {
   "cell_type": "code",
   "execution_count": 12,
   "id": "994d527d",
   "metadata": {},
   "outputs": [
    {
     "ename": "FileNotFoundError",
     "evalue": "Scenario folder not found: city_0_newyork_28",
     "output_type": "error",
     "traceback": [
      "\u001b[31m---------------------------------------------------------------------------\u001b[39m",
      "\u001b[31mFileNotFoundError\u001b[39m                         Traceback (most recent call last)",
      "\u001b[36mCell\u001b[39m\u001b[36m \u001b[39m\u001b[32mIn[12]\u001b[39m\u001b[32m, line 4\u001b[39m\n\u001b[32m      1\u001b[39m \u001b[38;5;28;01mimport\u001b[39;00m\u001b[38;5;250m \u001b[39m\u001b[34;01mdeepmimo\u001b[39;00m\u001b[38;5;250m \u001b[39m\u001b[38;5;28;01mas\u001b[39;00m\u001b[38;5;250m \u001b[39m\u001b[34;01mdm\u001b[39;00m\n\u001b[32m      3\u001b[39m \u001b[38;5;66;03m# Print summary of available datasets\u001b[39;00m\n\u001b[32m----> \u001b[39m\u001b[32m4\u001b[39m \u001b[43mdm\u001b[49m\u001b[43m.\u001b[49m\u001b[43msummary\u001b[49m\u001b[43m(\u001b[49m\u001b[33;43m'\u001b[39;49m\u001b[33;43mcity_0_newyork_28\u001b[39;49m\u001b[33;43m'\u001b[39;49m\u001b[43m)\u001b[49m\n\u001b[32m      6\u001b[39m \u001b[38;5;66;03m# Generate a dataset\u001b[39;00m\n\u001b[32m      7\u001b[39m dataset = dm.generate(\u001b[33m'\u001b[39m\u001b[33mcity_0_newyork_28\u001b[39m\u001b[33m'\u001b[39m)\n",
      "\u001b[36mFile \u001b[39m\u001b[32m~/Documents/GitHub/Machine-Learning-Based-mmWave-Adaptive-Beamforming/.venv/lib/python3.13/site-packages/deepmimo/summary.py:58\u001b[39m, in \u001b[36msummary\u001b[39m\u001b[34m(scen_name, print_summary)\u001b[39m\n\u001b[32m     53\u001b[39m summary_str = \u001b[33m\"\u001b[39m\u001b[33m\"\u001b[39m\n\u001b[32m     55\u001b[39m \u001b[38;5;66;03m# Read params.mat and provide TXRX summary, total number of tx & rx, scene size,\u001b[39;00m\n\u001b[32m     56\u001b[39m \u001b[38;5;66;03m# and other relevant parameters, computed/extracted from the all dicts, not just rt_params\u001b[39;00m\n\u001b[32m---> \u001b[39m\u001b[32m58\u001b[39m params_json_path = \u001b[43mget_params_path\u001b[49m\u001b[43m(\u001b[49m\u001b[43mscen_name\u001b[49m\u001b[43m)\u001b[49m\n\u001b[32m     60\u001b[39m params_dict = load_dict_from_json(params_json_path)\n\u001b[32m     61\u001b[39m rt_params = params_dict[c.RT_PARAMS_PARAM_NAME]\n",
      "\u001b[36mFile \u001b[39m\u001b[32m~/Documents/GitHub/Machine-Learning-Based-mmWave-Adaptive-Beamforming/.venv/lib/python3.13/site-packages/deepmimo/general_utils.py:87\u001b[39m, in \u001b[36mget_params_path\u001b[39m\u001b[34m(scenario_name)\u001b[39m\n\u001b[32m     85\u001b[39m scenario_folder = get_scenario_folder(scenario_name)\n\u001b[32m     86\u001b[39m \u001b[38;5;28;01mif\u001b[39;00m \u001b[38;5;129;01mnot\u001b[39;00m os.path.exists(scenario_folder):\n\u001b[32m---> \u001b[39m\u001b[32m87\u001b[39m     \u001b[38;5;28;01mraise\u001b[39;00m \u001b[38;5;167;01mFileNotFoundError\u001b[39;00m(\u001b[33mf\u001b[39m\u001b[33m\"\u001b[39m\u001b[33mScenario folder not found: \u001b[39m\u001b[38;5;132;01m{\u001b[39;00mscenario_name\u001b[38;5;132;01m}\u001b[39;00m\u001b[33m\"\u001b[39m)\n\u001b[32m     89\u001b[39m \u001b[38;5;66;03m# Check if there is a params file in the scenario folder\u001b[39;00m\n\u001b[32m     90\u001b[39m path = os.path.join(scenario_folder, \u001b[33mf\u001b[39m\u001b[33m'\u001b[39m\u001b[38;5;132;01m{\u001b[39;00mc.PARAMS_FILENAME\u001b[38;5;132;01m}\u001b[39;00m\u001b[33m.json\u001b[39m\u001b[33m'\u001b[39m)\n",
      "\u001b[31mFileNotFoundError\u001b[39m: Scenario folder not found: city_0_newyork_28"
     ]
    }
   ],
   "source": [
    "import deepmimo as dm\n",
    "\n",
    "# Print summary of available datasets\n",
    "dm.summary('city_0_newyork_28')\n",
    "\n",
    "# Generate a dataset\n",
    "dataset = dm.generate('city_0_newyork_28')\n",
    "\n",
    "# Access channel parameters\n",
    "channel = dataset.channel"
   ]
  },
  {
   "cell_type": "code",
   "execution_count": null,
   "id": "f4a9ae56",
   "metadata": {},
   "outputs": [],
   "source": [
    "# If the scenario is extracted in \"C:/dataset/\" folder, set\n",
    "parameters['dataset_folder'] = r'/Users/macbookm1/Documents/GitHub/Machine-Learning-Based-mmWave-Adaptive-Beamforming/datasets'\n",
    "\n",
    "# The default value is set as './Raytracing_scenarios/'\n",
    "\n",
    "parameters['scenario'] = 'city_0_newyork_28'"
   ]
  },
  {
   "cell_type": "code",
   "execution_count": null,
   "id": "354da890",
   "metadata": {},
   "outputs": [],
   "source": [
    "# To only include 10 strongest paths in the channel computation, set\n",
    "parameters['num_paths'] = 10\n",
    "\n",
    "# To activate only the first basestation, set\n",
    "parameters['active_BS'] = np.array([1])\n",
    "\n",
    "# To activate the basestations 1, 5, and 8, set\n",
    "parameters['active_BS'] = np.array([1, 5, 8])\n",
    "\n",
    "# To activate the user rows 1-5, set\n",
    "parameters['user_rows'] = np.arange(5)\n",
    "\n",
    "# To activate the half of the users in each selected row randomly, set\n",
    "parameters['user_subsampling'] = 0.5"
   ]
  }
 ],
 "metadata": {
  "kernelspec": {
   "display_name": ".venv",
   "language": "python",
   "name": "python3"
  },
  "language_info": {
   "codemirror_mode": {
    "name": "ipython",
    "version": 3
   },
   "file_extension": ".py",
   "mimetype": "text/x-python",
   "name": "python",
   "nbconvert_exporter": "python",
   "pygments_lexer": "ipython3",
   "version": "3.13.7"
  }
 },
 "nbformat": 4,
 "nbformat_minor": 5
}
