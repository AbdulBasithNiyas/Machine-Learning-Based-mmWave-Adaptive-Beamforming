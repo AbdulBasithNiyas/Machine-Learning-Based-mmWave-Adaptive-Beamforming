{
 "cells": [
  {
   "cell_type": "code",
   "execution_count": 12,
   "id": "994d527d",
   "metadata": {},
   "outputs": [
    {
     "ename": "ModuleNotFoundError",
     "evalue": "No module named 'deepmimo'",
     "output_type": "error",
     "traceback": [
      "\u001b[31m---------------------------------------------------------------------------\u001b[39m",
      "\u001b[31mModuleNotFoundError\u001b[39m                       Traceback (most recent call last)",
      "\u001b[36mCell\u001b[39m\u001b[36m \u001b[39m\u001b[32mIn[12]\u001b[39m\u001b[32m, line 1\u001b[39m\n\u001b[32m----> \u001b[39m\u001b[32m1\u001b[39m \u001b[38;5;28;01mimport\u001b[39;00m\u001b[38;5;250m \u001b[39m\u001b[34;01mdeepmimo\u001b[39;00m\u001b[38;5;250m \u001b[39m\u001b[38;5;28;01mas\u001b[39;00m\u001b[38;5;250m \u001b[39m\u001b[34;01mdm\u001b[39;00m\n\u001b[32m      2\u001b[39m \u001b[38;5;28;01mimport\u001b[39;00m\u001b[38;5;250m \u001b[39m\u001b[34;01mnumpy\u001b[39;00m\u001b[38;5;250m \u001b[39m\u001b[38;5;28;01mas\u001b[39;00m\u001b[38;5;250m \u001b[39m\u001b[34;01mnp\u001b[39;00m\n\u001b[32m      4\u001b[39m \u001b[38;5;66;03m# Load the default parameters\u001b[39;00m\n",
      "\u001b[31mModuleNotFoundError\u001b[39m: No module named 'deepmimo'"
     ]
    }
   ],
   "source": [
    "import deepmimo as dm\n",
    "import numpy as np\n",
    "\n",
    "# Load the default parameters\n",
    "parameters = dm.default_params()\n",
    "\n",
    "# Set scenario name\n",
    "parameters['scenario'] = 'city_0_newyork_28'\n",
    "\n",
    "# Set the main folder containing extracted scenarios\n",
    "parameters['dataset_folder'] = r'/Users/macbookm1/Documents/GitHub/Machine-Learning-Based-mmWave-Adaptive-Beamforming/datasets'\n",
    "\n",
    "# Generate data\n",
    "dataset = dm.generate_data(parameters)"
   ]
  },
  {
   "cell_type": "code",
   "execution_count": null,
   "id": "f4a9ae56",
   "metadata": {},
   "outputs": [],
   "source": [
    "# If the scenario is extracted in \"C:/dataset/\" folder, set\n",
    "parameters['dataset_folder'] = r'/Users/macbookm1/Documents/GitHub/Machine-Learning-Based-mmWave-Adaptive-Beamforming/datasets'\n",
    "\n",
    "# The default value is set as './Raytracing_scenarios/'\n",
    "\n",
    "parameters['scenario'] = 'city_0_newyork_28'"
   ]
  },
  {
   "cell_type": "code",
   "execution_count": null,
   "id": "354da890",
   "metadata": {},
   "outputs": [],
   "source": [
    "# To only include 10 strongest paths in the channel computation, set\n",
    "parameters['num_paths'] = 10\n",
    "\n",
    "# To activate only the first basestation, set\n",
    "parameters['active_BS'] = np.array([1])\n",
    "\n",
    "# To activate the basestations 1, 5, and 8, set\n",
    "parameters['active_BS'] = np.array([1, 5, 8])\n",
    "\n",
    "# To activate the user rows 1-5, set\n",
    "parameters['user_rows'] = np.arange(5)\n",
    "\n",
    "# To activate the half of the users in each selected row randomly, set\n",
    "parameters['user_subsampling'] = 0.5"
   ]
  }
 ],
 "metadata": {
  "kernelspec": {
   "display_name": ".venv",
   "language": "python",
   "name": "python3"
  },
  "language_info": {
   "codemirror_mode": {
    "name": "ipython",
    "version": 3
   },
   "file_extension": ".py",
   "mimetype": "text/x-python",
   "name": "python",
   "nbconvert_exporter": "python",
   "pygments_lexer": "ipython3",
   "version": "3.11.3"
  }
 },
 "nbformat": 4,
 "nbformat_minor": 5
}
