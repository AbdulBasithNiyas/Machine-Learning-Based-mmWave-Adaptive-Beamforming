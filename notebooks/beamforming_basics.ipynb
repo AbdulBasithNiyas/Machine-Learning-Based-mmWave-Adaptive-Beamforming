{
 "cells": [
  {
   "cell_type": "code",
   "execution_count": null,
   "id": "fb72ea60",
   "metadata": {
    "vscode": {
     "languageId": "plaintext"
    }
   },
   "outputs": [],
   "source": [
    "# Cell 1: Imports and Constants\n",
    "import numpy as np\n",
    "import matplotlib.pyplot as plt\n",
    "from beamforming_utils import create_ula_positions, steering_vector, array_factor\n",
    "\n",
    "# Constants\n",
    "c = 3e8                # Speed of light (m/s)\n",
    "f = 28e9               # Frequency (Hz)\n",
    "wavelength = c / f     # Wavelength (m)\n",
    "d = wavelength / 2     # Element spacing\n",
    "N = 8                  # Number of antenna elements\n",
    "\n",
    "# Scan angles for beam pattern\n",
    "scan_angles = np.linspace(-90, 90, 361)\n"
   ]
  },
  {
   "cell_type": "code",
   "execution_count": null,
   "id": "b73093f8",
   "metadata": {
    "vscode": {
     "languageId": "plaintext"
    }
   },
   "outputs": [],
   "source": [
    "# Cell 2: Create ULA and plot beam patterns for multiple steering angles\n",
    "positions = create_ula_positions(N, d)\n",
    "\n",
    "steering_angles = [-60, -30, 0, 30, 60]\n",
    "plt.figure(figsize=(10, 6))\n",
    "\n",
    "for angle in steering_angles:\n",
    "    weights = steering_vector(positions, wavelength, angle)\n",
    "    AF = array_factor(weights, positions, wavelength, scan_angles)\n",
    "    AF_dB = 20 * np.log10(AF + 1e-12)  # avoid log(0)\n",
    "    plt.plot(scan_angles, AF_dB, label=f\"Steered to {angle}°\")\n",
    "\n",
    "plt.title(\"Beam Pattern for Different Steering Angles\")\n",
    "plt.xlabel(\"Angle (degrees)\")\n",
    "plt.ylabel(\"Array Factor (dB)\")\n",
    "plt.ylim([-40, 0])\n",
    "plt.grid(True)\n",
    "plt.legend()\n",
    "plt.show()\n"
   ]
  },
  {
   "cell_type": "code",
   "execution_count": null,
   "id": "f80234f6",
   "metadata": {
    "vscode": {
     "languageId": "plaintext"
    }
   },
   "outputs": [],
   "source": [
    "# Cell 3: Optional Interactive Plot using ipywidgets\n",
    "import ipywidgets as widgets\n",
    "from IPython.display import display\n",
    "\n",
    "def plot_interactive_beam(steer_angle):\n",
    "    weights = steering_vector(positions, wavelength, steer_angle)\n",
    "    AF = array_factor(weights, positions, wavelength, scan_angles)\n",
    "    AF_dB = 20 * np.log10(AF + 1e-12)\n",
    "\n",
    "    plt.figure(figsize=(8, 5))\n",
    "    plt.plot(scan_angles, AF_dB, color='blue')\n",
    "    plt.title(f\"Beam Pattern (Steered to {steer_angle}°)\")\n",
    "    plt.xlabel(\"Angle (degrees)\")\n",
    "    plt.ylabel(\"Array Factor (dB)\")\n",
    "    plt.ylim([-40, 0])\n",
    "    plt.grid(True)\n",
    "    plt.show()\n",
    "\n",
    "# Create slider\n",
    "steering_slider = widgets.IntSlider(value=0, min=-90, max=90, step=1, description='Steer Angle')\n",
    "widgets.interact(plot_interactive_beam, steer_angle=steering_slider)\n"
   ]
  }
 ],
 "metadata": {
  "language_info": {
   "name": "python"
  }
 },
 "nbformat": 4,
 "nbformat_minor": 5
}
